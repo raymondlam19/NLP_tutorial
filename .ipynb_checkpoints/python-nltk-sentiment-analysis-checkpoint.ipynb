{
 "cells": [
  {
   "cell_type": "markdown",
   "metadata": {
    "_cell_guid": "36fd62ef-127b-ce2f-dfc5-b21bd37b3dc7",
    "_uuid": "459d4b2a4fc6265c67bd7aba164ac4f5822f634c"
   },
   "source": [
    "**Created by *Peter Nagy* February 2017**  <br/>\n",
    "[github][1] <br/>\n",
    "[Linkedin](https://www.linkedin.com/in/peternagyjob/) <br/>\n",
    "[My other kernel on LSTM](https://www.kaggle.com/ngyptr/lstm-sentiment-analysis-keras) <br/>\n",
    "\n",
    "**Sentiment Analysis:**\n",
    "the process of computationally identifying and categorizing opinions expressed in a piece of text, especially in order to determine whether the writer's attitude towards a particular topic, product, etc. is positive, negative, or neutral.\n",
    "\n",
    "  [1]: https://github.com/nagypeterjob"
   ]
  },
  {
   "cell_type": "code",
   "execution_count": 1,
   "metadata": {
    "_cell_guid": "374fc92f-ce1c-740d-4ab5-786c9197e189",
    "_uuid": "b0bf37411951b82cdee67350c2ffa3e04c431a64",
    "collapsed": true
   },
   "outputs": [],
   "source": [
    "# This Python 3 environment comes with many helpful analytics libraries installed\n",
    "# It is defined by the kaggle/python docker image: https://github.com/kaggle/docker-python\n",
    "# For example, here's several helpful packages to load in \n",
    "\n",
    "import numpy as np # linear algebra\n",
    "import pandas as pd # data processing, CSV file I/O (e.g. pd.read_csv)\n",
    "from sklearn.model_selection import train_test_split # function for splitting data to train and test sets\n",
    "\n",
    "import nltk\n",
    "from nltk.corpus import stopwords\n",
    "from nltk.classify import SklearnClassifier\n",
    "\n",
    "from wordcloud import WordCloud,STOPWORDS\n",
    "import matplotlib.pyplot as plt\n",
    "%matplotlib inline\n",
    "\n",
    "# Input data files are available in the \"../input/\" directory.\n",
    "# For example, running this (by clicking run or pressing Shift+Enter) will list the files in the input directory\n",
    "\n",
    "from subprocess import check_output"
   ]
  },
  {
   "cell_type": "markdown",
   "metadata": {
    "_cell_guid": "7cf1dbb0-d445-de60-6737-7272df1e5978",
    "_uuid": "1b8cbe88514d0c9b3ef58a7490a2749c41178f2f"
   },
   "source": [
    "I decided to only do sentiment analysis on this dataset, therfore I dropped the unnecessary colunns, keeping only *sentiment* and *text*."
   ]
  },
  {
   "cell_type": "code",
   "execution_count": 2,
   "metadata": {
    "_cell_guid": "ed8f4233-db8e-15c6-0568-c89cb6ba9d53",
    "_uuid": "116bb48ec452d655cceeab8861639545841c3bc8",
    "collapsed": true
   },
   "outputs": [],
   "source": [
    "data = pd.read_csv('../input/Sentiment.csv')\n",
    "# Keeping only the neccessary columns\n",
    "data = data[['text','sentiment']]"
   ]
  },
  {
   "cell_type": "markdown",
   "metadata": {
    "_cell_guid": "23c5e618-fc4a-97da-8be6-cd98815bc4c7",
    "_uuid": "c7e6af736ff27a540a2cb7c4d104d5a88be420e4"
   },
   "source": [
    "First of all, splitting the dataset into a training and a testing set. The test set is the 10% of the original dataset. For this particular analysis I dropped the neutral tweets, as my goal was to only differentiate positive and negative tweets."
   ]
  },
  {
   "cell_type": "code",
   "execution_count": 3,
   "metadata": {
    "_cell_guid": "8e60c228-ff93-e823-6d39-34c1b0fe3c3c",
    "_uuid": "3803931168a2e4a1a5961921271cd7ac2eec4bb1",
    "collapsed": true
   },
   "outputs": [],
   "source": [
    "# Splitting the dataset into train and test set\n",
    "train, test = train_test_split(data,test_size = 0.1)\n",
    "# Removing neutral sentiments\n",
    "train = train[train.sentiment != \"Neutral\"]"
   ]
  },
  {
   "cell_type": "markdown",
   "metadata": {
    "_cell_guid": "7598f1b2-7cad-3db3-746f-6f44e2dc7fa5",
    "_uuid": "96efc30072af8817eebf737992c2c70d6d45fcdd"
   },
   "source": [
    "As a next step I separated the Positive and Negative tweets of the training set in order to easily visualize their contained words.  After that I cleaned the text from hashtags, mentions  and links. Now they were ready for a WordCloud visualization which shows only the most emphatic words of the Positive and Negative tweets."
   ]
  },
  {
   "cell_type": "code",
   "execution_count": 4,
   "metadata": {
    "_cell_guid": "516a52cc-dd69-3b5f-7487-1467a701f1e2",
    "_uuid": "281770d57fe9ebf5705889b1cd46219086ab5835"
   },
   "outputs": [],
   "source": [
    "train_pos = train[ train['sentiment'] == 'Positive']\n",
    "train_pos = train_pos['text']\n",
    "train_neg = train[ train['sentiment'] == 'Negative']\n",
    "train_neg = train_neg['text']\n",
    "\n",
    "def wordcloud_draw(data, color = 'black'):\n",
    "    words = ' '.join(data)\n",
    "    cleaned_word = \" \".join([word for word in words.split()\n",
    "                            if 'http' not in word\n",
    "                                and not word.startswith('@')\n",
    "                                and not word.startswith('#')\n",
    "                                and word != 'RT'\n",
    "                            ])\n",
    "    wordcloud = WordCloud(stopwords=STOPWORDS,\n",
    "                      background_color=color,\n",
    "                      width=2500,\n",
    "                      height=2000\n",
    "                     ).generate(cleaned_word)\n",
    "    plt.figure(1,figsize=(13, 13))\n",
    "    plt.imshow(wordcloud)\n",
    "    plt.axis('off')\n",
    "    plt.show()\n",
    "    \n",
    "print(\"Positive words\")\n",
    "wordcloud_draw(train_pos,'white')\n",
    "print(\"Negative words\")\n",
    "wordcloud_draw(train_neg)"
   ]
  },
  {
   "cell_type": "markdown",
   "metadata": {
    "_cell_guid": "3fe4c2c4-e40e-11c9-aae9-b0ea85797ad9",
    "_uuid": "1f6e86c88a7adf568c7d62bf526f977691e65596"
   },
   "source": [
    "Interesting to notice the following words and expressions in the positive word set:\n",
    " **truth**, **strong**, **legitimate**,  **together**, **love**, **job**\n",
    "\n",
    "In my interpretation, people tend to believe that their ideal candidate is truthful, legitimate, above good and bad.\n",
    "\n",
    "\n",
    "----------\n",
    "\n",
    "\n",
    "At the same time, negative tweets contains words like:\n",
    "**influence**, **news**, **elevator music**, **disappointing**, **softball**, **makeup**, **cherry picking**, **trying**\n",
    "\n",
    "In my understanding people missed the decisively acting and considered the scolded candidates too soft and cherry picking."
   ]
  },
  {
   "cell_type": "markdown",
   "metadata": {
    "_cell_guid": "42366853-8e0e-0c92-a60d-29109c10c697",
    "_uuid": "f3d1fa5bf8626b4aba5e8390a376f5e26dfd346e"
   },
   "source": [
    "After the vizualization, I removed the hashtags, mentions, links and stopwords from the training set.\n",
    "\n",
    "**Stop Word:** Stop Words are words which do not contain important significance to be used in Search Queries. Usually these words are filtered out from search queries because they return vast amount of unnecessary information. ( the, for, this etc. )"
   ]
  },
  {
   "cell_type": "code",
   "execution_count": 5,
   "metadata": {
    "_cell_guid": "b66995b2-8d9f-8c9e-6b0a-273dad7e75c1",
    "_uuid": "1cf1394f3d13b1eab53dcd36fbc443d1cc237f4c",
    "collapsed": true
   },
   "outputs": [],
   "source": [
    "                \n",
    "tweets = []\n",
    "stopwords_set = set(stopwords.words(\"english\"))\n",
    "\n",
    "for index, row in train.iterrows():\n",
    "    words_filtered = [e.lower() for e in row.text.split() if len(e) >= 3]\n",
    "    words_cleaned = [word for word in words_filtered\n",
    "        if 'http' not in word\n",
    "        and not word.startswith('@')\n",
    "        and not word.startswith('#')\n",
    "        and word != 'RT']\n",
    "    words_without_stopwords = [word for word in words_cleaned if not word in stopwords_set]\n",
    "    tweets.append((words_without_stopwords, row.sentiment))\n",
    "\n",
    "test_pos = test[ test['sentiment'] == 'Positive']\n",
    "test_pos = test_pos['text']\n",
    "test_neg = test[ test['sentiment'] == 'Negative']\n",
    "test_neg = test_neg['text']"
   ]
  },
  {
   "cell_type": "markdown",
   "metadata": {
    "_cell_guid": "fb9264bc-029f-85f3-d6e1-44b9d130d801",
    "_uuid": "9152bec4ea56f8cd0c011123693cc8225ea2b526"
   },
   "source": [
    "As a next step I extracted the so called features with nltk lib, first by measuring a frequent distribution and by selecting the resulting keys."
   ]
  },
  {
   "cell_type": "code",
   "execution_count": 6,
   "metadata": {
    "_cell_guid": "253a2784-7de9-c1d4-293c-43b036627930",
    "_uuid": "7e19ef32137eb7bc6db8c5a303e8ed3479066b7a",
    "collapsed": true
   },
   "outputs": [],
   "source": [
    "# Extracting word features\n",
    "def get_words_in_tweets(tweets):\n",
    "    all = []\n",
    "    for (words, sentiment) in tweets:\n",
    "        all.extend(words)\n",
    "    return all\n",
    "\n",
    "def get_word_features(wordlist):\n",
    "    wordlist = nltk.FreqDist(wordlist)\n",
    "    features = wordlist.keys()\n",
    "    return features\n",
    "w_features = get_word_features(get_words_in_tweets(tweets))\n",
    "\n",
    "def extract_features(document):\n",
    "    document_words = set(document)\n",
    "    features = {}\n",
    "    for word in w_features:\n",
    "        features['contains(%s)' % word] = (word in document_words)\n",
    "    return features"
   ]
  },
  {
   "cell_type": "markdown",
   "metadata": {
    "_cell_guid": "d4202bb1-ef8a-312c-e5a9-27bb282411eb",
    "_uuid": "dc7cca77e1f7d63c4946a48e9ca4f09b877cc5a4"
   },
   "source": [
    "Hereby I plotted the most frequently distributed words. The most words are centered around debate nights."
   ]
  },
  {
   "cell_type": "code",
   "execution_count": 7,
   "metadata": {
    "_cell_guid": "1c8ac3c2-22ed-d267-d04c-931d9e2f9080",
    "_uuid": "bf36ce37ef41751622f406c25c305cad2d1b95ad"
   },
   "outputs": [],
   "source": [
    "wordcloud_draw(w_features)"
   ]
  },
  {
   "cell_type": "markdown",
   "metadata": {
    "_cell_guid": "dbf474bb-69f1-a2cf-5f37-265cba07a428",
    "_uuid": "9cc97d427a84c6fe5eb8c0b9bc7c5454c774f52e"
   },
   "source": [
    "Using the nltk NaiveBayes Classifier I classified the extracted tweet word features."
   ]
  },
  {
   "cell_type": "code",
   "execution_count": null,
   "metadata": {
    "_cell_guid": "9b89e1a0-fb0b-3f6f-6577-5d20ecadcf58",
    "_uuid": "6cd24fde414ecb72c39d36fa0fd650322174b28c",
    "collapsed": true
   },
   "outputs": [],
   "source": [
    "# Training the Naive Bayes classifier\n",
    "training_set = nltk.classify.apply_features(extract_features,tweets)\n",
    "classifier = nltk.NaiveBayesClassifier.train(training_set)"
   ]
  },
  {
   "cell_type": "markdown",
   "metadata": {
    "_cell_guid": "6dc107eb-d6b9-9260-23c4-83fad0d4c795",
    "_uuid": "95dc67f25d331249db6c545500059cb6ae005aab"
   },
   "source": [
    "Finally, with not-so-intelligent metrics, I tried to measure how the classifier algorithm scored."
   ]
  },
  {
   "cell_type": "code",
   "execution_count": null,
   "metadata": {
    "_cell_guid": "0db3c2eb-3a31-6d29-f9fa-7bf5cc899af1",
    "_uuid": "9c147f7c6f58e36389c0767ada55baeba4d02b34",
    "collapsed": true
   },
   "outputs": [],
   "source": [
    "\n",
    "neg_cnt = 0\n",
    "pos_cnt = 0\n",
    "for obj in test_neg: \n",
    "    res =  classifier.classify(extract_features(obj.split()))\n",
    "    if(res == 'Negative'): \n",
    "        neg_cnt = neg_cnt + 1\n",
    "for obj in test_pos: \n",
    "    res =  classifier.classify(extract_features(obj.split()))\n",
    "    if(res == 'Positive'): \n",
    "        pos_cnt = pos_cnt + 1\n",
    "        \n",
    "print('[Negative]: %s/%s '  % (len(test_neg),neg_cnt))        \n",
    "print('[Positive]: %s/%s '  % (len(test_pos),pos_cnt))    "
   ]
  },
  {
   "cell_type": "markdown",
   "metadata": {
    "_cell_guid": "1f29d2ef-48fa-0343-ff7a-58f5f2ac43ba",
    "_uuid": "8e4da548f1aff99c3c1c28e130aca7f0feeac88a"
   },
   "source": [
    "## Epilog ##\n",
    "\n",
    "In this project I was curious how well nltk and the NaiveBayes Machine Learning algorithm performs for Sentiment Analysis. In my experience, it works rather well for negative comments. The problems arise when the tweets are ironic, sarcastic has reference or own difficult context.\n",
    "\n",
    "Consider the following tweet:\n",
    "*\"Muhaha, how sad that the Liberals couldn't destroy Trump.  Marching forward.\"*\n",
    "As you may already thought, the words **sad** and **destroy** highly influences the evaluation, although this tweet should be positive when observing its meaning and context. \n",
    "\n",
    "To improve the evalutation accuracy, we need something to take the context and references into consideration. As my project 2.0, I will try to build an LSTM network, and benchmark its results compared to this nltk Machine Learning implementation. Stay tuned. "
   ]
  },
  {
   "cell_type": "code",
   "execution_count": null,
   "metadata": {
    "_cell_guid": "feda97ab-f4fe-24a5-34a9-a46926f77fe7",
    "_uuid": "036afb74eb8cb3c01c93d2e0d9209a46f5725e55",
    "collapsed": true
   },
   "outputs": [],
   "source": []
  }
 ],
 "metadata": {
  "_change_revision": 0,
  "_is_fork": false,
  "kernelspec": {
   "display_name": "Python 3",
   "language": "python",
   "name": "python3"
  },
  "language_info": {
   "codemirror_mode": {
    "name": "ipython",
    "version": 3
   },
   "file_extension": ".py",
   "mimetype": "text/x-python",
   "name": "python",
   "nbconvert_exporter": "python",
   "pygments_lexer": "ipython3",
   "version": "3.6.8"
  }
 },
 "nbformat": 4,
 "nbformat_minor": 1
}
